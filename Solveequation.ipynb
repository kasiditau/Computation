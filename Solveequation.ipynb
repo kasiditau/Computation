{
 "cells": [
  {
   "cell_type": "code",
   "execution_count": 13,
   "metadata": {},
   "outputs": [
    {
     "data": {
      "text/plain": [
       "[-1.45675125622279,\n",
       " 0.135078447878192,\n",
       " -3.99506857389437 - 3.76605940088283*I,\n",
       " -3.99506857389437 + 3.76605940088283*I]"
      ]
     },
     "execution_count": 13,
     "metadata": {},
     "output_type": "execute_result"
    }
   ],
   "source": [
    "from sympy import symbols, Eq, solve\n",
    "b = 6.516931793\n",
    "z = 0.5780346821\n",
    "s_0 = symbols('s_0')\n",
    "eq = 1/(s_0+1)+1/(s_0+2.53164557)+2*(s_0+4.64)/((s_0+4.64)**2+b**2)-1/(s_0+z)\n",
    "sol = solve(eq)\n",
    "sol"
   ]
  },
  {
   "cell_type": "code",
   "execution_count": null,
   "metadata": {},
   "outputs": [],
   "source": []
  }
 ],
 "metadata": {
  "kernelspec": {
   "display_name": "Python 3",
   "language": "python",
   "name": "python3"
  },
  "language_info": {
   "codemirror_mode": {
    "name": "ipython",
    "version": 3
   },
   "file_extension": ".py",
   "mimetype": "text/x-python",
   "name": "python",
   "nbconvert_exporter": "python",
   "pygments_lexer": "ipython3",
   "version": "3.7.6"
  }
 },
 "nbformat": 4,
 "nbformat_minor": 4
}
